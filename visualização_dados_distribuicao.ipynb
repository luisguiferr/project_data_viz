{
  "nbformat": 4,
  "nbformat_minor": 0,
  "metadata": {
    "colab": {
      "provenance": [],
      "collapsed_sections": [
        "DQTeonoItA4M",
        "yXm9UJz6tHbK",
        "TVIxTRzue1pL",
        "8yNGuDiQhYIG"
      ]
    },
    "kernelspec": {
      "name": "python3",
      "display_name": "Python 3"
    },
    "language_info": {
      "name": "python"
    }
  },
  "cells": [
    {
      "cell_type": "markdown",
      "source": [
        "# Paleta de cores"
      ],
      "metadata": {
        "id": "DQTeonoItA4M"
      }
    },
    {
      "cell_type": "code",
      "source": [
        "# Definindo a paleta de cores\n",
        "AZUL1, AZUL2, AZUL3, AZUL4, AZUL5 = '#03045e', '#0077b6', \"#00b4d8\", '#90e0ef', '#CDDBF3'\n",
        "CINZA1, CINZA2, CINZA3, CINZA4, CINZA5 = '#212529', '#495057', '#adb5bd', '#dee2e6', '#f8f9fa'\n",
        "VERMELHO1, LARANJA1, AMARELO1, VERDE1, VERDE2 = '#e76f51', '#f4a261',\t'#e9c46a', '#4c956c', '#2a9d8f'"
      ],
      "metadata": {
        "id": "je6AfDe1hB7F"
      },
      "execution_count": null,
      "outputs": []
    },
    {
      "cell_type": "markdown",
      "source": [
        "# Bibliotecas"
      ],
      "metadata": {
        "id": "wACKQoUbtErN"
      }
    },
    {
      "cell_type": "code",
      "execution_count": null,
      "metadata": {
        "id": "7oxvRKtvfSX7"
      },
      "outputs": [],
      "source": [
        "import pandas as pd\n",
        "import matplotlib.pyplot as plt\n",
        "import seaborn as sns\n",
        "from matplotlib.patches import Ellipse\n",
        "import numpy as np"
      ]
    },
    {
      "cell_type": "markdown",
      "source": [
        "# Conhecendo os dados (Base de dados 1)"
      ],
      "metadata": {
        "id": "yXm9UJz6tHbK"
      }
    },
    {
      "cell_type": "code",
      "source": [
        "vol_amaciante = pd.read_csv('https://raw.githubusercontent.com/alura-cursos/dataviz-graficos/master/dados/volume_amaciante.csv')\n",
        "vol_amaciante.head()"
      ],
      "metadata": {
        "colab": {
          "base_uri": "https://localhost:8080/"
        },
        "id": "xEn0bxtqfeZy",
        "outputId": "43ceb1ca-0894-4903-9b10-ba9adb8b3cbd"
      },
      "execution_count": null,
      "outputs": [
        {
          "output_type": "execute_result",
          "data": {
            "text/plain": [
              "   Volume\n",
              "0   999.8\n",
              "1   999.5\n",
              "2   999.7\n",
              "3   999.1\n",
              "4   999.8"
            ],
            "text/html": [
              "\n",
              "  <div id=\"df-f98d264a-9617-4dcc-9a64-24a0005e89e3\" class=\"colab-df-container\">\n",
              "    <div>\n",
              "<style scoped>\n",
              "    .dataframe tbody tr th:only-of-type {\n",
              "        vertical-align: middle;\n",
              "    }\n",
              "\n",
              "    .dataframe tbody tr th {\n",
              "        vertical-align: top;\n",
              "    }\n",
              "\n",
              "    .dataframe thead th {\n",
              "        text-align: right;\n",
              "    }\n",
              "</style>\n",
              "<table border=\"1\" class=\"dataframe\">\n",
              "  <thead>\n",
              "    <tr style=\"text-align: right;\">\n",
              "      <th></th>\n",
              "      <th>Volume</th>\n",
              "    </tr>\n",
              "  </thead>\n",
              "  <tbody>\n",
              "    <tr>\n",
              "      <th>0</th>\n",
              "      <td>999.8</td>\n",
              "    </tr>\n",
              "    <tr>\n",
              "      <th>1</th>\n",
              "      <td>999.5</td>\n",
              "    </tr>\n",
              "    <tr>\n",
              "      <th>2</th>\n",
              "      <td>999.7</td>\n",
              "    </tr>\n",
              "    <tr>\n",
              "      <th>3</th>\n",
              "      <td>999.1</td>\n",
              "    </tr>\n",
              "    <tr>\n",
              "      <th>4</th>\n",
              "      <td>999.8</td>\n",
              "    </tr>\n",
              "  </tbody>\n",
              "</table>\n",
              "</div>\n",
              "    <div class=\"colab-df-buttons\">\n",
              "\n",
              "  <div class=\"colab-df-container\">\n",
              "    <button class=\"colab-df-convert\" onclick=\"convertToInteractive('df-f98d264a-9617-4dcc-9a64-24a0005e89e3')\"\n",
              "            title=\"Convert this dataframe to an interactive table.\"\n",
              "            style=\"display:none;\">\n",
              "\n",
              "  <svg xmlns=\"http://www.w3.org/2000/svg\" height=\"24px\" viewBox=\"0 -960 960 960\">\n",
              "    <path d=\"M120-120v-720h720v720H120Zm60-500h600v-160H180v160Zm220 220h160v-160H400v160Zm0 220h160v-160H400v160ZM180-400h160v-160H180v160Zm440 0h160v-160H620v160ZM180-180h160v-160H180v160Zm440 0h160v-160H620v160Z\"/>\n",
              "  </svg>\n",
              "    </button>\n",
              "\n",
              "  <style>\n",
              "    .colab-df-container {\n",
              "      display:flex;\n",
              "      gap: 12px;\n",
              "    }\n",
              "\n",
              "    .colab-df-convert {\n",
              "      background-color: #E8F0FE;\n",
              "      border: none;\n",
              "      border-radius: 50%;\n",
              "      cursor: pointer;\n",
              "      display: none;\n",
              "      fill: #1967D2;\n",
              "      height: 32px;\n",
              "      padding: 0 0 0 0;\n",
              "      width: 32px;\n",
              "    }\n",
              "\n",
              "    .colab-df-convert:hover {\n",
              "      background-color: #E2EBFA;\n",
              "      box-shadow: 0px 1px 2px rgba(60, 64, 67, 0.3), 0px 1px 3px 1px rgba(60, 64, 67, 0.15);\n",
              "      fill: #174EA6;\n",
              "    }\n",
              "\n",
              "    .colab-df-buttons div {\n",
              "      margin-bottom: 4px;\n",
              "    }\n",
              "\n",
              "    [theme=dark] .colab-df-convert {\n",
              "      background-color: #3B4455;\n",
              "      fill: #D2E3FC;\n",
              "    }\n",
              "\n",
              "    [theme=dark] .colab-df-convert:hover {\n",
              "      background-color: #434B5C;\n",
              "      box-shadow: 0px 1px 3px 1px rgba(0, 0, 0, 0.15);\n",
              "      filter: drop-shadow(0px 1px 2px rgba(0, 0, 0, 0.3));\n",
              "      fill: #FFFFFF;\n",
              "    }\n",
              "  </style>\n",
              "\n",
              "    <script>\n",
              "      const buttonEl =\n",
              "        document.querySelector('#df-f98d264a-9617-4dcc-9a64-24a0005e89e3 button.colab-df-convert');\n",
              "      buttonEl.style.display =\n",
              "        google.colab.kernel.accessAllowed ? 'block' : 'none';\n",
              "\n",
              "      async function convertToInteractive(key) {\n",
              "        const element = document.querySelector('#df-f98d264a-9617-4dcc-9a64-24a0005e89e3');\n",
              "        const dataTable =\n",
              "          await google.colab.kernel.invokeFunction('convertToInteractive',\n",
              "                                                    [key], {});\n",
              "        if (!dataTable) return;\n",
              "\n",
              "        const docLinkHtml = 'Like what you see? Visit the ' +\n",
              "          '<a target=\"_blank\" href=https://colab.research.google.com/notebooks/data_table.ipynb>data table notebook</a>'\n",
              "          + ' to learn more about interactive tables.';\n",
              "        element.innerHTML = '';\n",
              "        dataTable['output_type'] = 'display_data';\n",
              "        await google.colab.output.renderOutput(dataTable, element);\n",
              "        const docLink = document.createElement('div');\n",
              "        docLink.innerHTML = docLinkHtml;\n",
              "        element.appendChild(docLink);\n",
              "      }\n",
              "    </script>\n",
              "  </div>\n",
              "\n",
              "\n",
              "    <div id=\"df-de926648-1382-46a0-a797-669c20a94370\">\n",
              "      <button class=\"colab-df-quickchart\" onclick=\"quickchart('df-de926648-1382-46a0-a797-669c20a94370')\"\n",
              "                title=\"Suggest charts\"\n",
              "                style=\"display:none;\">\n",
              "\n",
              "<svg xmlns=\"http://www.w3.org/2000/svg\" height=\"24px\"viewBox=\"0 0 24 24\"\n",
              "     width=\"24px\">\n",
              "    <g>\n",
              "        <path d=\"M19 3H5c-1.1 0-2 .9-2 2v14c0 1.1.9 2 2 2h14c1.1 0 2-.9 2-2V5c0-1.1-.9-2-2-2zM9 17H7v-7h2v7zm4 0h-2V7h2v10zm4 0h-2v-4h2v4z\"/>\n",
              "    </g>\n",
              "</svg>\n",
              "      </button>\n",
              "\n",
              "<style>\n",
              "  .colab-df-quickchart {\n",
              "      --bg-color: #E8F0FE;\n",
              "      --fill-color: #1967D2;\n",
              "      --hover-bg-color: #E2EBFA;\n",
              "      --hover-fill-color: #174EA6;\n",
              "      --disabled-fill-color: #AAA;\n",
              "      --disabled-bg-color: #DDD;\n",
              "  }\n",
              "\n",
              "  [theme=dark] .colab-df-quickchart {\n",
              "      --bg-color: #3B4455;\n",
              "      --fill-color: #D2E3FC;\n",
              "      --hover-bg-color: #434B5C;\n",
              "      --hover-fill-color: #FFFFFF;\n",
              "      --disabled-bg-color: #3B4455;\n",
              "      --disabled-fill-color: #666;\n",
              "  }\n",
              "\n",
              "  .colab-df-quickchart {\n",
              "    background-color: var(--bg-color);\n",
              "    border: none;\n",
              "    border-radius: 50%;\n",
              "    cursor: pointer;\n",
              "    display: none;\n",
              "    fill: var(--fill-color);\n",
              "    height: 32px;\n",
              "    padding: 0;\n",
              "    width: 32px;\n",
              "  }\n",
              "\n",
              "  .colab-df-quickchart:hover {\n",
              "    background-color: var(--hover-bg-color);\n",
              "    box-shadow: 0 1px 2px rgba(60, 64, 67, 0.3), 0 1px 3px 1px rgba(60, 64, 67, 0.15);\n",
              "    fill: var(--button-hover-fill-color);\n",
              "  }\n",
              "\n",
              "  .colab-df-quickchart-complete:disabled,\n",
              "  .colab-df-quickchart-complete:disabled:hover {\n",
              "    background-color: var(--disabled-bg-color);\n",
              "    fill: var(--disabled-fill-color);\n",
              "    box-shadow: none;\n",
              "  }\n",
              "\n",
              "  .colab-df-spinner {\n",
              "    border: 2px solid var(--fill-color);\n",
              "    border-color: transparent;\n",
              "    border-bottom-color: var(--fill-color);\n",
              "    animation:\n",
              "      spin 1s steps(1) infinite;\n",
              "  }\n",
              "\n",
              "  @keyframes spin {\n",
              "    0% {\n",
              "      border-color: transparent;\n",
              "      border-bottom-color: var(--fill-color);\n",
              "      border-left-color: var(--fill-color);\n",
              "    }\n",
              "    20% {\n",
              "      border-color: transparent;\n",
              "      border-left-color: var(--fill-color);\n",
              "      border-top-color: var(--fill-color);\n",
              "    }\n",
              "    30% {\n",
              "      border-color: transparent;\n",
              "      border-left-color: var(--fill-color);\n",
              "      border-top-color: var(--fill-color);\n",
              "      border-right-color: var(--fill-color);\n",
              "    }\n",
              "    40% {\n",
              "      border-color: transparent;\n",
              "      border-right-color: var(--fill-color);\n",
              "      border-top-color: var(--fill-color);\n",
              "    }\n",
              "    60% {\n",
              "      border-color: transparent;\n",
              "      border-right-color: var(--fill-color);\n",
              "    }\n",
              "    80% {\n",
              "      border-color: transparent;\n",
              "      border-right-color: var(--fill-color);\n",
              "      border-bottom-color: var(--fill-color);\n",
              "    }\n",
              "    90% {\n",
              "      border-color: transparent;\n",
              "      border-bottom-color: var(--fill-color);\n",
              "    }\n",
              "  }\n",
              "</style>\n",
              "\n",
              "      <script>\n",
              "        async function quickchart(key) {\n",
              "          const quickchartButtonEl =\n",
              "            document.querySelector('#' + key + ' button');\n",
              "          quickchartButtonEl.disabled = true;  // To prevent multiple clicks.\n",
              "          quickchartButtonEl.classList.add('colab-df-spinner');\n",
              "          try {\n",
              "            const charts = await google.colab.kernel.invokeFunction(\n",
              "                'suggestCharts', [key], {});\n",
              "          } catch (error) {\n",
              "            console.error('Error during call to suggestCharts:', error);\n",
              "          }\n",
              "          quickchartButtonEl.classList.remove('colab-df-spinner');\n",
              "          quickchartButtonEl.classList.add('colab-df-quickchart-complete');\n",
              "        }\n",
              "        (() => {\n",
              "          let quickchartButtonEl =\n",
              "            document.querySelector('#df-de926648-1382-46a0-a797-669c20a94370 button');\n",
              "          quickchartButtonEl.style.display =\n",
              "            google.colab.kernel.accessAllowed ? 'block' : 'none';\n",
              "        })();\n",
              "      </script>\n",
              "    </div>\n",
              "\n",
              "    </div>\n",
              "  </div>\n"
            ],
            "application/vnd.google.colaboratory.intrinsic+json": {
              "type": "dataframe",
              "variable_name": "vol_amaciante",
              "summary": "{\n  \"name\": \"vol_amaciante\",\n  \"rows\": 1000,\n  \"fields\": [\n    {\n      \"column\": \"Volume\",\n      \"properties\": {\n        \"dtype\": \"number\",\n        \"std\": 0.4855302767589792,\n        \"min\": 998.3,\n        \"max\": 1001.5,\n        \"num_unique_values\": 31,\n        \"samples\": [\n          998.7,\n          1001.0,\n          1001.1\n        ],\n        \"semantic_type\": \"\",\n        \"description\": \"\"\n      }\n    }\n  ]\n}"
            }
          },
          "metadata": {},
          "execution_count": 3
        }
      ]
    },
    {
      "cell_type": "code",
      "source": [
        "vol_amaciante.describe()"
      ],
      "metadata": {
        "colab": {
          "base_uri": "https://localhost:8080/"
        },
        "id": "X5-iFsGtfkPl",
        "outputId": "86a80197-5e53-42c4-9092-f77779a6076c"
      },
      "execution_count": null,
      "outputs": [
        {
          "output_type": "execute_result",
          "data": {
            "text/plain": [
              "           Volume\n",
              "count  1000.00000\n",
              "mean    999.98970\n",
              "std       0.48553\n",
              "min     998.30000\n",
              "25%     999.70000\n",
              "50%    1000.00000\n",
              "75%    1000.30000\n",
              "max    1001.50000"
            ],
            "text/html": [
              "\n",
              "  <div id=\"df-30155164-687f-4ead-9763-12060cb628fd\" class=\"colab-df-container\">\n",
              "    <div>\n",
              "<style scoped>\n",
              "    .dataframe tbody tr th:only-of-type {\n",
              "        vertical-align: middle;\n",
              "    }\n",
              "\n",
              "    .dataframe tbody tr th {\n",
              "        vertical-align: top;\n",
              "    }\n",
              "\n",
              "    .dataframe thead th {\n",
              "        text-align: right;\n",
              "    }\n",
              "</style>\n",
              "<table border=\"1\" class=\"dataframe\">\n",
              "  <thead>\n",
              "    <tr style=\"text-align: right;\">\n",
              "      <th></th>\n",
              "      <th>Volume</th>\n",
              "    </tr>\n",
              "  </thead>\n",
              "  <tbody>\n",
              "    <tr>\n",
              "      <th>count</th>\n",
              "      <td>1000.00000</td>\n",
              "    </tr>\n",
              "    <tr>\n",
              "      <th>mean</th>\n",
              "      <td>999.98970</td>\n",
              "    </tr>\n",
              "    <tr>\n",
              "      <th>std</th>\n",
              "      <td>0.48553</td>\n",
              "    </tr>\n",
              "    <tr>\n",
              "      <th>min</th>\n",
              "      <td>998.30000</td>\n",
              "    </tr>\n",
              "    <tr>\n",
              "      <th>25%</th>\n",
              "      <td>999.70000</td>\n",
              "    </tr>\n",
              "    <tr>\n",
              "      <th>50%</th>\n",
              "      <td>1000.00000</td>\n",
              "    </tr>\n",
              "    <tr>\n",
              "      <th>75%</th>\n",
              "      <td>1000.30000</td>\n",
              "    </tr>\n",
              "    <tr>\n",
              "      <th>max</th>\n",
              "      <td>1001.50000</td>\n",
              "    </tr>\n",
              "  </tbody>\n",
              "</table>\n",
              "</div>\n",
              "    <div class=\"colab-df-buttons\">\n",
              "\n",
              "  <div class=\"colab-df-container\">\n",
              "    <button class=\"colab-df-convert\" onclick=\"convertToInteractive('df-30155164-687f-4ead-9763-12060cb628fd')\"\n",
              "            title=\"Convert this dataframe to an interactive table.\"\n",
              "            style=\"display:none;\">\n",
              "\n",
              "  <svg xmlns=\"http://www.w3.org/2000/svg\" height=\"24px\" viewBox=\"0 -960 960 960\">\n",
              "    <path d=\"M120-120v-720h720v720H120Zm60-500h600v-160H180v160Zm220 220h160v-160H400v160Zm0 220h160v-160H400v160ZM180-400h160v-160H180v160Zm440 0h160v-160H620v160ZM180-180h160v-160H180v160Zm440 0h160v-160H620v160Z\"/>\n",
              "  </svg>\n",
              "    </button>\n",
              "\n",
              "  <style>\n",
              "    .colab-df-container {\n",
              "      display:flex;\n",
              "      gap: 12px;\n",
              "    }\n",
              "\n",
              "    .colab-df-convert {\n",
              "      background-color: #E8F0FE;\n",
              "      border: none;\n",
              "      border-radius: 50%;\n",
              "      cursor: pointer;\n",
              "      display: none;\n",
              "      fill: #1967D2;\n",
              "      height: 32px;\n",
              "      padding: 0 0 0 0;\n",
              "      width: 32px;\n",
              "    }\n",
              "\n",
              "    .colab-df-convert:hover {\n",
              "      background-color: #E2EBFA;\n",
              "      box-shadow: 0px 1px 2px rgba(60, 64, 67, 0.3), 0px 1px 3px 1px rgba(60, 64, 67, 0.15);\n",
              "      fill: #174EA6;\n",
              "    }\n",
              "\n",
              "    .colab-df-buttons div {\n",
              "      margin-bottom: 4px;\n",
              "    }\n",
              "\n",
              "    [theme=dark] .colab-df-convert {\n",
              "      background-color: #3B4455;\n",
              "      fill: #D2E3FC;\n",
              "    }\n",
              "\n",
              "    [theme=dark] .colab-df-convert:hover {\n",
              "      background-color: #434B5C;\n",
              "      box-shadow: 0px 1px 3px 1px rgba(0, 0, 0, 0.15);\n",
              "      filter: drop-shadow(0px 1px 2px rgba(0, 0, 0, 0.3));\n",
              "      fill: #FFFFFF;\n",
              "    }\n",
              "  </style>\n",
              "\n",
              "    <script>\n",
              "      const buttonEl =\n",
              "        document.querySelector('#df-30155164-687f-4ead-9763-12060cb628fd button.colab-df-convert');\n",
              "      buttonEl.style.display =\n",
              "        google.colab.kernel.accessAllowed ? 'block' : 'none';\n",
              "\n",
              "      async function convertToInteractive(key) {\n",
              "        const element = document.querySelector('#df-30155164-687f-4ead-9763-12060cb628fd');\n",
              "        const dataTable =\n",
              "          await google.colab.kernel.invokeFunction('convertToInteractive',\n",
              "                                                    [key], {});\n",
              "        if (!dataTable) return;\n",
              "\n",
              "        const docLinkHtml = 'Like what you see? Visit the ' +\n",
              "          '<a target=\"_blank\" href=https://colab.research.google.com/notebooks/data_table.ipynb>data table notebook</a>'\n",
              "          + ' to learn more about interactive tables.';\n",
              "        element.innerHTML = '';\n",
              "        dataTable['output_type'] = 'display_data';\n",
              "        await google.colab.output.renderOutput(dataTable, element);\n",
              "        const docLink = document.createElement('div');\n",
              "        docLink.innerHTML = docLinkHtml;\n",
              "        element.appendChild(docLink);\n",
              "      }\n",
              "    </script>\n",
              "  </div>\n",
              "\n",
              "\n",
              "    <div id=\"df-5b411da0-786e-43e2-97cb-adac650b77be\">\n",
              "      <button class=\"colab-df-quickchart\" onclick=\"quickchart('df-5b411da0-786e-43e2-97cb-adac650b77be')\"\n",
              "                title=\"Suggest charts\"\n",
              "                style=\"display:none;\">\n",
              "\n",
              "<svg xmlns=\"http://www.w3.org/2000/svg\" height=\"24px\"viewBox=\"0 0 24 24\"\n",
              "     width=\"24px\">\n",
              "    <g>\n",
              "        <path d=\"M19 3H5c-1.1 0-2 .9-2 2v14c0 1.1.9 2 2 2h14c1.1 0 2-.9 2-2V5c0-1.1-.9-2-2-2zM9 17H7v-7h2v7zm4 0h-2V7h2v10zm4 0h-2v-4h2v4z\"/>\n",
              "    </g>\n",
              "</svg>\n",
              "      </button>\n",
              "\n",
              "<style>\n",
              "  .colab-df-quickchart {\n",
              "      --bg-color: #E8F0FE;\n",
              "      --fill-color: #1967D2;\n",
              "      --hover-bg-color: #E2EBFA;\n",
              "      --hover-fill-color: #174EA6;\n",
              "      --disabled-fill-color: #AAA;\n",
              "      --disabled-bg-color: #DDD;\n",
              "  }\n",
              "\n",
              "  [theme=dark] .colab-df-quickchart {\n",
              "      --bg-color: #3B4455;\n",
              "      --fill-color: #D2E3FC;\n",
              "      --hover-bg-color: #434B5C;\n",
              "      --hover-fill-color: #FFFFFF;\n",
              "      --disabled-bg-color: #3B4455;\n",
              "      --disabled-fill-color: #666;\n",
              "  }\n",
              "\n",
              "  .colab-df-quickchart {\n",
              "    background-color: var(--bg-color);\n",
              "    border: none;\n",
              "    border-radius: 50%;\n",
              "    cursor: pointer;\n",
              "    display: none;\n",
              "    fill: var(--fill-color);\n",
              "    height: 32px;\n",
              "    padding: 0;\n",
              "    width: 32px;\n",
              "  }\n",
              "\n",
              "  .colab-df-quickchart:hover {\n",
              "    background-color: var(--hover-bg-color);\n",
              "    box-shadow: 0 1px 2px rgba(60, 64, 67, 0.3), 0 1px 3px 1px rgba(60, 64, 67, 0.15);\n",
              "    fill: var(--button-hover-fill-color);\n",
              "  }\n",
              "\n",
              "  .colab-df-quickchart-complete:disabled,\n",
              "  .colab-df-quickchart-complete:disabled:hover {\n",
              "    background-color: var(--disabled-bg-color);\n",
              "    fill: var(--disabled-fill-color);\n",
              "    box-shadow: none;\n",
              "  }\n",
              "\n",
              "  .colab-df-spinner {\n",
              "    border: 2px solid var(--fill-color);\n",
              "    border-color: transparent;\n",
              "    border-bottom-color: var(--fill-color);\n",
              "    animation:\n",
              "      spin 1s steps(1) infinite;\n",
              "  }\n",
              "\n",
              "  @keyframes spin {\n",
              "    0% {\n",
              "      border-color: transparent;\n",
              "      border-bottom-color: var(--fill-color);\n",
              "      border-left-color: var(--fill-color);\n",
              "    }\n",
              "    20% {\n",
              "      border-color: transparent;\n",
              "      border-left-color: var(--fill-color);\n",
              "      border-top-color: var(--fill-color);\n",
              "    }\n",
              "    30% {\n",
              "      border-color: transparent;\n",
              "      border-left-color: var(--fill-color);\n",
              "      border-top-color: var(--fill-color);\n",
              "      border-right-color: var(--fill-color);\n",
              "    }\n",
              "    40% {\n",
              "      border-color: transparent;\n",
              "      border-right-color: var(--fill-color);\n",
              "      border-top-color: var(--fill-color);\n",
              "    }\n",
              "    60% {\n",
              "      border-color: transparent;\n",
              "      border-right-color: var(--fill-color);\n",
              "    }\n",
              "    80% {\n",
              "      border-color: transparent;\n",
              "      border-right-color: var(--fill-color);\n",
              "      border-bottom-color: var(--fill-color);\n",
              "    }\n",
              "    90% {\n",
              "      border-color: transparent;\n",
              "      border-bottom-color: var(--fill-color);\n",
              "    }\n",
              "  }\n",
              "</style>\n",
              "\n",
              "      <script>\n",
              "        async function quickchart(key) {\n",
              "          const quickchartButtonEl =\n",
              "            document.querySelector('#' + key + ' button');\n",
              "          quickchartButtonEl.disabled = true;  // To prevent multiple clicks.\n",
              "          quickchartButtonEl.classList.add('colab-df-spinner');\n",
              "          try {\n",
              "            const charts = await google.colab.kernel.invokeFunction(\n",
              "                'suggestCharts', [key], {});\n",
              "          } catch (error) {\n",
              "            console.error('Error during call to suggestCharts:', error);\n",
              "          }\n",
              "          quickchartButtonEl.classList.remove('colab-df-spinner');\n",
              "          quickchartButtonEl.classList.add('colab-df-quickchart-complete');\n",
              "        }\n",
              "        (() => {\n",
              "          let quickchartButtonEl =\n",
              "            document.querySelector('#df-5b411da0-786e-43e2-97cb-adac650b77be button');\n",
              "          quickchartButtonEl.style.display =\n",
              "            google.colab.kernel.accessAllowed ? 'block' : 'none';\n",
              "        })();\n",
              "      </script>\n",
              "    </div>\n",
              "\n",
              "    </div>\n",
              "  </div>\n"
            ],
            "application/vnd.google.colaboratory.intrinsic+json": {
              "type": "dataframe",
              "summary": "{\n  \"name\": \"vol_amaciante\",\n  \"rows\": 8,\n  \"fields\": [\n    {\n      \"column\": \"Volume\",\n      \"properties\": {\n        \"dtype\": \"number\",\n        \"std\": 353.3721820631387,\n        \"min\": 0.4855302767589792,\n        \"max\": 1001.5,\n        \"num_unique_values\": 7,\n        \"samples\": [\n          1000.0,\n          999.9897,\n          1000.3\n        ],\n        \"semantic_type\": \"\",\n        \"description\": \"\"\n      }\n    }\n  ]\n}"
            }
          },
          "metadata": {},
          "execution_count": 4
        }
      ]
    },
    {
      "cell_type": "markdown",
      "source": [
        "# Distribuição dos dados"
      ],
      "metadata": {
        "id": "D_CfheH7tKob"
      }
    },
    {
      "cell_type": "markdown",
      "source": [
        "Histograma de colunas"
      ],
      "metadata": {
        "id": "Opg8kKIwxwhB"
      }
    },
    {
      "cell_type": "code",
      "source": [
        "fig, ax = plt.subplots(figsize=(12,4))\n",
        "sns.set_theme(style='white')\n",
        "\n",
        "# ax = sns.histplot(data=vol_amaciante, x='Volume', binwidth=0.1, color=AZUL2) # ajustando o intervalo pela largura dos bins\n",
        "ax = sns.histplot(data=vol_amaciante, x='Volume', bins=20, color=AZUL2) # ajustando o intervalo pela quantidade de bins\n",
        "\n",
        "plt.suptitle('Distribuição dos volumes do amaciante', size=18, color=CINZA1,\n",
        "             ha='right',\n",
        "             x=0.535,\n",
        "             y=1.05)\n",
        "plt.title('para uma amostra de 1000 unidades', fontsize=14, color=CINZA2,\n",
        "          pad=15,\n",
        "          loc='left')\n",
        "ax.set_xlabel('Volume (ml)', fontsize=14)\n",
        "ax.set_ylabel('Quantidade', fontsize=14)\n",
        "ax.yaxis.set_tick_params(labelsize=12, labelcolor=CINZA2)\n",
        "ax.xaxis.set_tick_params(labelsize=12, labelcolor=CINZA2)\n",
        "sns.despine()\n",
        "\n",
        "plt.show()"
      ],
      "metadata": {
        "colab": {
          "base_uri": "https://localhost:8080/",
          "height": 465
        },
        "id": "2ysHsC4DgkgC",
        "outputId": "8df02caa-e874-4fd4-abbf-bfc79484732b"
      },
      "execution_count": null,
      "outputs": [
        {
          "output_type": "display_data",
          "data": {
            "text/plain": [
              "<Figure size 1200x400 with 1 Axes>"
            ],
            "image/png": "[encoded data removed]"
          },
          "metadata": {}
        }
      ]
    },
    {
      "cell_type": "markdown",
      "source": [
        "Histograma de linhas"
      ],
      "metadata": {
        "id": "wIy9-2nUxyzs"
      }
    },
    {
      "cell_type": "code",
      "source": [
        "def grafico_densidade():\n",
        "\n",
        "    fig, ax = plt.subplots(figsize=(15,4))\n",
        "    sns.set_theme(style='white')\n",
        "\n",
        "    ax = sns.kdeplot(data=vol_amaciante, x='Volume', color=AZUL3, lw=0, fill=True)\n",
        "\n",
        "    plt.suptitle('Distribuição dos volumes do amaciante (curva de densidade)', size=18, color=CINZA1,\n",
        "             ha='right',\n",
        "             x=0.635,\n",
        "             y=1.05)\n",
        "    plt.title('para uma amostra de 1000 unidades', fontsize=14, color=CINZA2,\n",
        "              pad=15,\n",
        "              loc='left')\n",
        "    ax.set_xlabel('Volume', fontsize=14)\n",
        "    ax.set_ylabel('Densidade', fontsize=14)\n",
        "    ax.yaxis.set_tick_params(labelsize=12, labelcolor=CINZA2)\n",
        "    ax.xaxis.set_tick_params(labelsize=12, labelcolor=CINZA2)\n",
        "    ax.set_xlim(vol_amaciante.Volume.min(), vol_amaciante.Volume.max())\n",
        "    sns.despine(left=True)\n",
        "\n",
        "    return ax\n",
        "\n",
        "ax = grafico_densidade()"
      ],
      "metadata": {
        "colab": {
          "base_uri": "https://localhost:8080/",
          "height": 468
        },
        "id": "wdYd3wrEhXAc",
        "outputId": "a8f0d07e-145c-4279-f36a-1fedb3f83ba4"
      },
      "execution_count": null,
      "outputs": [
        {
          "output_type": "display_data",
          "data": {
            "text/plain": [
              "<Figure size 1500x400 with 1 Axes>"
            ],
            "image/png": "[encoded data removed]"
          },
          "metadata": {}
        }
      ]
    },
    {
      "cell_type": "code",
      "source": [
        "ax = grafico_densidade()\n",
        "\n",
        "ax.set_ylabel('')\n",
        "ax.set_yticklabels([])\n",
        "\n",
        "estat = vol_amaciante.Volume.mean(), vol_amaciante.Volume.median(), vol_amaciante.Volume.mode()[0]\n",
        "desc = ['Média', 'Mediana', 'Moda']\n",
        "cores = [LARANJA1, VERDE1, CINZA3]\n",
        "\n",
        "ax.vlines(x=estat, ymin=0, ymax=0.8, colors=cores, linestyles='--')\n",
        "\n",
        "for i in range(len(estat)):\n",
        "    ax.text(0.75, (0.6 - i/10), f'{desc[i]} = {estat[i]} ml',\n",
        "            fontsize=14, color=cores[i], transform=ax.transAxes)\n",
        "\n",
        "fig = ax.get_figure()"
      ],
      "metadata": {
        "colab": {
          "base_uri": "https://localhost:8080/",
          "height": 468
        },
        "id": "ogE0P2bWpmke",
        "outputId": "af032951-0bd6-4684-fc9c-8b1dc4e8a8ec"
      },
      "execution_count": null,
      "outputs": [
        {
          "output_type": "display_data",
          "data": {
            "text/plain": [
              "<Figure size 1500x400 with 1 Axes>"
            ],
            "image/png": "[encoded data removed]"
          },
          "metadata": {}
        }
      ]
    },
    {
      "cell_type": "markdown",
      "source": [
        "Boxplot"
      ],
      "metadata": {
        "id": "Bi9YjUXKx09G"
      }
    },
    {
      "cell_type": "code",
      "source": [
        "def boxplot_amaciantes():\n",
        "\n",
        "    fig, ax = plt.subplots(figsize=(6,8))\n",
        "    sns.set_theme(style='white')\n",
        "\n",
        "    ax = sns.boxplot(data=vol_amaciante, y='Volume', orient='v', color=AZUL2)\n",
        "\n",
        "    plt.suptitle('Boxplot do volume do amaciante', size=18, color=CINZA1, ha='right', x=0.81, y=0.97)\n",
        "    plt.title('para uma amostra de 1000 unidades', fontsize=14, color=CINZA2, pad=15, loc='left')\n",
        "    ax.set_xlabel('')\n",
        "    ax.set_ylabel('Volume (ml)', fontsize=14)\n",
        "    ax.yaxis.set_tick_params(labelsize=12, labelcolor=CINZA2)\n",
        "    sns.despine(bottom=True)\n",
        "\n",
        "    # Gerando elipses dos outliers\n",
        "    y_min, y_max = ax.get_ybound()\n",
        "    outlier_sup = Ellipse((0, y_max - 0.27), width=0.1, height=0.46, color=VERMELHO1, fill=False)\n",
        "    outlier_inf = Ellipse((0, y_min + 0.4), width=0.1, height=0.6, color=VERMELHO1, fill=False)\n",
        "    ax.add_patch(outlier_sup)\n",
        "    ax.add_patch(outlier_inf)\n",
        "\n",
        "    # Convertendo os valores para float (evita FutureWarning)\n",
        "    q1 = float(vol_amaciante['Volume'].quantile(0.25))\n",
        "    median = float(vol_amaciante['Volume'].median())\n",
        "    q3 = float(vol_amaciante['Volume'].quantile(0.75))\n",
        "\n",
        "    # Adicionando a explicação dos elementos de um boxplot\n",
        "    ax.annotate(\"Outliers\", xy=(0 + 0.05, y_max - 0.27), xycoords='data',     # coordenadas do ponto desejado\n",
        "                bbox=dict(boxstyle=\"round\", fc=CINZA5, ec=VERMELHO1),         # caixa de texto\n",
        "                xytext=(50, -2.5), textcoords='offset points',                   # posição do texto\n",
        "                arrowprops=dict(arrowstyle=\"->\", color=VERMELHO1))            # propriedades da seta\n",
        "\n",
        "    ax.annotate(\"Outliers\", xy=(0 + 0.05, y_min + 0.4), xycoords='data',\n",
        "                bbox=dict(boxstyle=\"round\", fc=CINZA5, ec=VERMELHO1),\n",
        "                xytext=(50, -2.5), textcoords='offset points',\n",
        "                arrowprops=dict(arrowstyle=\"->\", color=VERMELHO1))\n",
        "\n",
        "    ax.annotate(\"1º Quartil / 25%\", xy=(0.4, q1), xycoords='data',\n",
        "                bbox=dict(boxstyle=\"round\", fc=CINZA5, ec=CINZA3),\n",
        "                xytext=(50, -2.5), textcoords='offset points',\n",
        "                arrowprops=dict(arrowstyle=\"->\", color=CINZA3))\n",
        "\n",
        "    ax.annotate(\"2º Quartil / Mediana\", xy=(0.4, median), xycoords='data',\n",
        "                bbox=dict(boxstyle=\"round\", fc=CINZA5, ec=CINZA3),\n",
        "                xytext=(50, -2.5), textcoords='offset points',\n",
        "                arrowprops=dict(arrowstyle=\"->\", color=CINZA3))\n",
        "\n",
        "    ax.annotate(\"3º Quartil / 75%\", xy=(0.4, q3), xycoords='data',\n",
        "                bbox=dict(boxstyle=\"round\", fc=CINZA5, ec=CINZA3),\n",
        "                xytext=(50, -2.5), textcoords='offset points',\n",
        "                arrowprops=dict(arrowstyle=\"->\", color=CINZA3))\n",
        "\n",
        "    return ax\n",
        "\n",
        "ax = boxplot_amaciantes()"
      ],
      "metadata": {
        "colab": {
          "base_uri": "https://localhost:8080/",
          "height": 724
        },
        "id": "O2E3_mvDriuh",
        "outputId": "399bcdf6-b01b-4e79-bf69-d7bf5ad2d32b"
      },
      "execution_count": null,
      "outputs": [
        {
          "output_type": "display_data",
          "data": {
            "text/plain": [
              "<Figure size 600x800 with 1 Axes>"
            ],
            "image/png": "[encoded data removed]"
          },
          "metadata": {}
        }
      ]
    },
    {
      "cell_type": "markdown",
      "source": [
        "# Análise proposta - População (Base de dados 2)"
      ],
      "metadata": {
        "id": "Y-xcRtXaVBX3"
      }
    },
    {
      "cell_type": "markdown",
      "source": [
        "Histograma e Curva de densidade de uma amostra com idades de uma população"
      ],
      "metadata": {
        "id": "KqXzjaE3eowb"
      }
    },
    {
      "cell_type": "code",
      "source": [
        "dados_pop = pd.read_csv('/content/pop_idade.csv')\n",
        "dados_pop"
      ],
      "metadata": {
        "colab": {
          "base_uri": "https://localhost:8080/",
          "height": 304
        },
        "id": "BP_U8roCVD1S",
        "outputId": "2c763ad9-26e3-4f19-8a55-2d93b4abc8d8"
      },
      "execution_count": null,
      "outputs": [
        {
          "output_type": "error",
          "ename": "FileNotFoundError",
          "evalue": "[Errno 2] No such file or directory: '/content/pop_idade.csv'",
          "traceback": [
            "\u001b[0;31m---------------------------------------------------------------------------\u001b[0m",
            "\u001b[0;31mFileNotFoundError\u001b[0m                         Traceback (most recent call last)",
            "\u001b[0;32m/tmp/ipython-input-2863369947.py\u001b[0m in \u001b[0;36m<cell line: 0>\u001b[0;34m()\u001b[0m\n\u001b[0;32m----> 1\u001b[0;31m \u001b[0mdados_pop\u001b[0m \u001b[0;34m=\u001b[0m \u001b[0mpd\u001b[0m\u001b[0;34m.\u001b[0m\u001b[0mread_csv\u001b[0m\u001b[0;34m(\u001b[0m\u001b[0;34m'/content/pop_idade.csv'\u001b[0m\u001b[0;34m)\u001b[0m\u001b[0;34m\u001b[0m\u001b[0;34m\u001b[0m\u001b[0m\n\u001b[0m\u001b[1;32m      2\u001b[0m \u001b[0mdados_pop\u001b[0m\u001b[0;34m\u001b[0m\u001b[0;34m\u001b[0m\u001b[0m\n",
            "\u001b[0;32m/usr/local/lib/python3.12/dist-packages/pandas/io/parsers/readers.py\u001b[0m in \u001b[0;36mread_csv\u001b[0;34m(filepath_or_buffer, sep, delimiter, header, names, index_col, usecols, dtype, engine, converters, true_values, false_values, skipinitialspace, skiprows, skipfooter, nrows, na_values, keep_default_na, na_filter, verbose, skip_blank_lines, parse_dates, infer_datetime_format, keep_date_col, date_parser, date_format, dayfirst, cache_dates, iterator, chunksize, compression, thousands, decimal, lineterminator, quotechar, quoting, doublequote, escapechar, comment, encoding, encoding_errors, dialect, on_bad_lines, delim_whitespace, low_memory, memory_map, float_precision, storage_options, dtype_backend)\u001b[0m\n\u001b[1;32m   1024\u001b[0m     \u001b[0mkwds\u001b[0m\u001b[0;34m.\u001b[0m\u001b[0mupdate\u001b[0m\u001b[0;34m(\u001b[0m\u001b[0mkwds_defaults\u001b[0m\u001b[0;34m)\u001b[0m\u001b[0;34m\u001b[0m\u001b[0;34m\u001b[0m\u001b[0m\n\u001b[1;32m   1025\u001b[0m \u001b[0;34m\u001b[0m\u001b[0m\n\u001b[0;32m-> 1026\u001b[0;31m     \u001b[0;32mreturn\u001b[0m \u001b[0m_read\u001b[0m\u001b[0;34m(\u001b[0m\u001b[0mfilepath_or_buffer\u001b[0m\u001b[0;34m,\u001b[0m \u001b[0mkwds\u001b[0m\u001b[0;34m)\u001b[0m\u001b[0;34m\u001b[0m\u001b[0;34m\u001b[0m\u001b[0m\n\u001b[0m\u001b[1;32m   1027\u001b[0m \u001b[0;34m\u001b[0m\u001b[0m\n\u001b[1;32m   1028\u001b[0m \u001b[0;34m\u001b[0m\u001b[0m\n",
            "\u001b[0;32m/usr/local/lib/python3.12/dist-packages/pandas/io/parsers/readers.py\u001b[0m in \u001b[0;36m_read\u001b[0;34m(filepath_or_buffer, kwds)\u001b[0m\n\u001b[1;32m    618\u001b[0m \u001b[0;34m\u001b[0m\u001b[0m\n\u001b[1;32m    619\u001b[0m     \u001b[0;31m# Create the parser.\u001b[0m\u001b[0;34m\u001b[0m\u001b[0;34m\u001b[0m\u001b[0m\n\u001b[0;32m--> 620\u001b[0;31m     \u001b[0mparser\u001b[0m \u001b[0;34m=\u001b[0m \u001b[0mTextFileReader\u001b[0m\u001b[0;34m(\u001b[0m\u001b[0mfilepath_or_buffer\u001b[0m\u001b[0;34m,\u001b[0m \u001b[0;34m**\u001b[0m\u001b[0mkwds\u001b[0m\u001b[0;34m)\u001b[0m\u001b[0;34m\u001b[0m\u001b[0;34m\u001b[0m\u001b[0m\n\u001b[0m\u001b[1;32m    621\u001b[0m \u001b[0;34m\u001b[0m\u001b[0m\n\u001b[1;32m    622\u001b[0m     \u001b[0;32mif\u001b[0m \u001b[0mchunksize\u001b[0m \u001b[0;32mor\u001b[0m \u001b[0miterator\u001b[0m\u001b[0;34m:\u001b[0m\u001b[0;34m\u001b[0m\u001b[0;34m\u001b[0m\u001b[0m\n",
            "\u001b[0;32m/usr/local/lib/python3.12/dist-packages/pandas/io/parsers/readers.py\u001b[0m in \u001b[0;36m__init__\u001b[0;34m(self, f, engine, **kwds)\u001b[0m\n\u001b[1;32m   1618\u001b[0m \u001b[0;34m\u001b[0m\u001b[0m\n\u001b[1;32m   1619\u001b[0m         \u001b[0mself\u001b[0m\u001b[0;34m.\u001b[0m\u001b[0mhandles\u001b[0m\u001b[0;34m:\u001b[0m \u001b[0mIOHandles\u001b[0m \u001b[0;34m|\u001b[0m \u001b[0;32mNone\u001b[0m \u001b[0;34m=\u001b[0m \u001b[0;32mNone\u001b[0m\u001b[0;34m\u001b[0m\u001b[0;34m\u001b[0m\u001b[0m\n\u001b[0;32m-> 1620\u001b[0;31m         \u001b[0mself\u001b[0m\u001b[0;34m.\u001b[0m\u001b[0m_engine\u001b[0m \u001b[0;34m=\u001b[0m \u001b[0mself\u001b[0m\u001b[0;34m.\u001b[0m\u001b[0m_make_engine\u001b[0m\u001b[0;34m(\u001b[0m\u001b[0mf\u001b[0m\u001b[0;34m,\u001b[0m \u001b[0mself\u001b[0m\u001b[0;34m.\u001b[0m\u001b[0mengine\u001b[0m\u001b[0;34m)\u001b[0m\u001b[0;34m\u001b[0m\u001b[0;34m\u001b[0m\u001b[0m\n\u001b[0m\u001b[1;32m   1621\u001b[0m \u001b[0;34m\u001b[0m\u001b[0m\n\u001b[1;32m   1622\u001b[0m     \u001b[0;32mdef\u001b[0m \u001b[0mclose\u001b[0m\u001b[0;34m(\u001b[0m\u001b[0mself\u001b[0m\u001b[0;34m)\u001b[0m \u001b[0;34m->\u001b[0m \u001b[0;32mNone\u001b[0m\u001b[0;34m:\u001b[0m\u001b[0;34m\u001b[0m\u001b[0;34m\u001b[0m\u001b[0m\n",
            "\u001b[0;32m/usr/local/lib/python3.12/dist-packages/pandas/io/parsers/readers.py\u001b[0m in \u001b[0;36m_make_engine\u001b[0;34m(self, f, engine)\u001b[0m\n\u001b[1;32m   1878\u001b[0m                 \u001b[0;32mif\u001b[0m \u001b[0;34m\"b\"\u001b[0m \u001b[0;32mnot\u001b[0m \u001b[0;32min\u001b[0m \u001b[0mmode\u001b[0m\u001b[0;34m:\u001b[0m\u001b[0;34m\u001b[0m\u001b[0;34m\u001b[0m\u001b[0m\n\u001b[1;32m   1879\u001b[0m                     \u001b[0mmode\u001b[0m \u001b[0;34m+=\u001b[0m \u001b[0;34m\"b\"\u001b[0m\u001b[0;34m\u001b[0m\u001b[0;34m\u001b[0m\u001b[0m\n\u001b[0;32m-> 1880\u001b[0;31m             self.handles = get_handle(\n\u001b[0m\u001b[1;32m   1881\u001b[0m                 \u001b[0mf\u001b[0m\u001b[0;34m,\u001b[0m\u001b[0;34m\u001b[0m\u001b[0;34m\u001b[0m\u001b[0m\n\u001b[1;32m   1882\u001b[0m                 \u001b[0mmode\u001b[0m\u001b[0;34m,\u001b[0m\u001b[0;34m\u001b[0m\u001b[0;34m\u001b[0m\u001b[0m\n",
            "\u001b[0;32m/usr/local/lib/python3.12/dist-packages/pandas/io/common.py\u001b[0m in \u001b[0;36mget_handle\u001b[0;34m(path_or_buf, mode, encoding, compression, memory_map, is_text, errors, storage_options)\u001b[0m\n\u001b[1;32m    871\u001b[0m         \u001b[0;32mif\u001b[0m \u001b[0mioargs\u001b[0m\u001b[0;34m.\u001b[0m\u001b[0mencoding\u001b[0m \u001b[0;32mand\u001b[0m \u001b[0;34m\"b\"\u001b[0m \u001b[0;32mnot\u001b[0m \u001b[0;32min\u001b[0m \u001b[0mioargs\u001b[0m\u001b[0;34m.\u001b[0m\u001b[0mmode\u001b[0m\u001b[0;34m:\u001b[0m\u001b[0;34m\u001b[0m\u001b[0;34m\u001b[0m\u001b[0m\n\u001b[1;32m    872\u001b[0m             \u001b[0;31m# Encoding\u001b[0m\u001b[0;34m\u001b[0m\u001b[0;34m\u001b[0m\u001b[0m\n\u001b[0;32m--> 873\u001b[0;31m             handle = open(\n\u001b[0m\u001b[1;32m    874\u001b[0m                 \u001b[0mhandle\u001b[0m\u001b[0;34m,\u001b[0m\u001b[0;34m\u001b[0m\u001b[0;34m\u001b[0m\u001b[0m\n\u001b[1;32m    875\u001b[0m                 \u001b[0mioargs\u001b[0m\u001b[0;34m.\u001b[0m\u001b[0mmode\u001b[0m\u001b[0;34m,\u001b[0m\u001b[0;34m\u001b[0m\u001b[0;34m\u001b[0m\u001b[0m\n",
            "\u001b[0;31mFileNotFoundError\u001b[0m: [Errno 2] No such file or directory: '/content/pop_idade.csv'"
          ]
        }
      ]
    },
    {
      "cell_type": "code",
      "source": [
        "fig, axs = plt.subplots(1, 2, figsize=(14,6))\n",
        "sns.set_theme(style='white')\n",
        "\n",
        "sns.histplot(data=dados_pop, x='idade', color=AZUL2, bins=15, ax=axs[0])\n",
        "sns.kdeplot(data=dados_pop, x='idade', color=AZUL2, lw=0, fill=True, ax=axs[1])\n",
        "\n",
        "plt.suptitle('Distribuição das idades no município de Cidade Alegre\\npara uma amostra de 500 pessoas',\n",
        "             size=18, color=CINZA1, ha='left', x=0.1, y=1.05)\n",
        "\n",
        "axs[0].set_title('Histograma', fontsize=14, color=CINZA2, loc='center')\n",
        "axs[0].set_xlabel('Idade', fontsize=14)\n",
        "axs[0].set_ylabel('Quantidade', fontsize=14)\n",
        "axs[0].yaxis.set_tick_params(labelsize=12, labelcolor=CINZA2)\n",
        "axs[0].xaxis.set_tick_params(labelsize=12, labelcolor=CINZA2)\n",
        "\n",
        "axs[1].set_title('Curva de densidade', fontsize=14, color=CINZA2, loc='center')\n",
        "axs[1].set_xlabel('Idade', fontsize=14)\n",
        "axs[1].set_ylabel('')\n",
        "axs[1].set_yticklabels([])\n",
        "axs[1].yaxis.set_tick_params(labelsize=12, labelcolor=CINZA2)\n",
        "axs[1].xaxis.set_tick_params(labelsize=12, labelcolor=CINZA2)\n",
        "axs[1].set_xlim(dados_pop.idade.min(), dados_pop.idade.max())\n",
        "\n",
        "axs[1].vlines(x=dados_pop.idade.median(), ymin=0, ymax=0.04, colors=VERMELHO1, linestyles='--')\n",
        "axs[1].text(0.6, 0.7, f'Mediana = {dados_pop.idade.median()} anos',\n",
        "        fontsize=14,\n",
        "        color=VERMELHO1,\n",
        "        transform=axs[1].transAxes)\n",
        "\n",
        "sns.despine()\n",
        "\n",
        "plt.show()"
      ],
      "metadata": {
        "id": "5mxkdfUEVORb"
      },
      "execution_count": null,
      "outputs": []
    },
    {
      "cell_type": "markdown",
      "source": [
        "# Análise proposta - Boxplot (Base de dados 1)"
      ],
      "metadata": {
        "id": "TVIxTRzue1pL"
      }
    },
    {
      "cell_type": "code",
      "source": [
        "ax = boxplot_amaciantes()\n",
        "\n",
        "q1 = float(vol_amaciante['Volume'].quantile(0.25))\n",
        "median = float(vol_amaciante['Volume'].median())\n",
        "q3 = float(vol_amaciante['Volume'].quantile(0.75))\n",
        "\n",
        "iqr = q3 - q1\n",
        "limite_sup = q3 + 1.5 * iqr\n",
        "limite_inf = q1 - 1.5 * iqr\n",
        "\n",
        "ax.annotate(\"Limite Superior\", xy=(0.02, limite_sup), xycoords='data',\n",
        "            bbox=dict(boxstyle=\"round\", fc=CINZA5, ec=VERDE1),\n",
        "            xytext=(50, -2.5), textcoords='offset points',\n",
        "            arrowprops=dict(arrowstyle=\"->\", color=VERDE1))\n",
        "\n",
        "ax.annotate(\"Limite Inferior\", xy=(0.02, limite_inf), xycoords='data',\n",
        "            bbox=dict(boxstyle=\"round\", fc=CINZA5, ec=VERDE1),\n",
        "            xytext=(50, -2.5), textcoords='offset points',\n",
        "            arrowprops=dict(arrowstyle=\"->\", color=VERDE1))\n",
        "\n",
        "fig = ax.get_figure()"
      ],
      "metadata": {
        "id": "PVFZ-UT0e5BB"
      },
      "execution_count": null,
      "outputs": []
    },
    {
      "cell_type": "markdown",
      "source": [
        "# Conhecendo os dados (Base de dados 3)"
      ],
      "metadata": {
        "id": "6xXJINREgSzy"
      }
    },
    {
      "cell_type": "code",
      "source": [
        "df_medidas = pd.read_csv('https://raw.githubusercontent.com/alura-cursos/dataviz-graficos/master/dados/medidas_sabao_em_po.csv')\n",
        "df_medidas.sample(5)"
      ],
      "metadata": {
        "id": "Ah2ogZR0gVcR"
      },
      "execution_count": null,
      "outputs": []
    },
    {
      "cell_type": "code",
      "source": [
        "df_medidas.describe()"
      ],
      "metadata": {
        "id": "UMkwF4BzgrPp"
      },
      "execution_count": null,
      "outputs": []
    },
    {
      "cell_type": "markdown",
      "source": [
        "# Violin Plot (Base de dados 3)"
      ],
      "metadata": {
        "id": "8yNGuDiQhYIG"
      }
    },
    {
      "cell_type": "markdown",
      "source": [
        "**Questionamento:**\n",
        "\n",
        "1. Como está a distribuição das medidas de comprimento da embalagem de sabão em pó para cada uma das amostras?"
      ],
      "metadata": {
        "id": "_s9l4cg9lNK7"
      }
    },
    {
      "cell_type": "markdown",
      "source": [
        "Comprimento"
      ],
      "metadata": {
        "id": "QFgb6gerjtTK"
      }
    },
    {
      "cell_type": "code",
      "source": [
        "# Geração do gráfico 'Violin plot'\n",
        "fig, ax = plt.subplots(figsize=(10,5))\n",
        "sns.set_theme(style='whitegrid')\n",
        "\n",
        "ax = sns.violinplot(data=df_medidas, x='amostra', y='comprimento',\n",
        "                    hue='amostra',\n",
        "                    legend=False,\n",
        "                    palette=[AZUL2, VERDE1, AZUL5, LARANJA1, CINZA3])\n",
        "\n",
        "# Personalização do gráfico\n",
        "plt.suptitle('Violin plot do comprimento da caixa de sabão em pó', size=18, color=CINZA1,\n",
        "             ha='right',\n",
        "             x=0.785,\n",
        "             y=1.03)\n",
        "plt.title('para 5 amostras com 200 observações cada', fontsize=14, color=CINZA2,\n",
        "          pad=15,\n",
        "          loc='left')\n",
        "ax.set_xlabel('Amostra', fontsize=14)\n",
        "ax.set_ylabel('Comprimento (cm)', fontsize=14)\n",
        "ax.yaxis.set_tick_params(labelsize=12, labelcolor=CINZA2)\n",
        "ax.xaxis.set_tick_params(labelsize=12, labelcolor=CINZA2)\n",
        "sns.despine(bottom=True)\n",
        "\n",
        "plt.show()"
      ],
      "metadata": {
        "id": "13Jih3U-iHny"
      },
      "execution_count": null,
      "outputs": []
    },
    {
      "cell_type": "markdown",
      "source": [
        "Largura"
      ],
      "metadata": {
        "id": "Akjqos7jjuiy"
      }
    },
    {
      "cell_type": "code",
      "source": [
        "# Geração do gráfico 'Violin plot'\n",
        "fig, ax = plt.subplots(figsize=(10,5))\n",
        "sns.set_theme(style='whitegrid')\n",
        "\n",
        "ax = sns.violinplot(data=df_medidas, x='amostra', y='largura',\n",
        "                    hue='amostra',\n",
        "                    legend=False,\n",
        "                    palette=[AZUL2, VERDE1, AZUL5, LARANJA1, CINZA3])\n",
        "\n",
        "# Personalização do gráfico\n",
        "plt.suptitle('Violin plot da largura da caixa de sabão em pó', size=18, color=CINZA1,\n",
        "             ha='right',\n",
        "             x=0.708,\n",
        "             y=1.03)\n",
        "plt.title('para 5 amostras com 200 observações cada', fontsize=14, color=CINZA2,\n",
        "          pad=15,\n",
        "          loc='left')\n",
        "ax.set_xlabel('Amostra', fontsize=14)\n",
        "ax.set_ylabel('Largura (cm)', fontsize=14)\n",
        "ax.yaxis.set_tick_params(labelsize=12, labelcolor=CINZA2)\n",
        "ax.xaxis.set_tick_params(labelsize=12, labelcolor=CINZA2)\n",
        "sns.despine(bottom=True)\n",
        "\n",
        "plt.show()"
      ],
      "metadata": {
        "id": "ZBRIo7bWik4z"
      },
      "execution_count": null,
      "outputs": []
    },
    {
      "cell_type": "markdown",
      "source": [
        "Altura"
      ],
      "metadata": {
        "id": "JtHv84t_jxWA"
      }
    },
    {
      "cell_type": "code",
      "source": [
        "# Geração do gráfico 'Violin plot'\n",
        "fig, ax = plt.subplots(figsize=(10,5))\n",
        "sns.set_theme(style='whitegrid')\n",
        "\n",
        "ax = sns.violinplot(data=df_medidas, x='amostra', y='altura',\n",
        "                    hue='amostra',\n",
        "                    legend=False,\n",
        "                    palette=[AZUL2, VERDE1, AZUL5, LARANJA1, CINZA3])\n",
        "\n",
        "# Personalização do gráfico\n",
        "plt.suptitle('Violin plot da altura da caixa de sabão em pó', size=18, color=CINZA1,\n",
        "             ha='right',\n",
        "             x=0.69,\n",
        "             y=1.03)\n",
        "plt.title('para 5 amostras com 200 observações cada', fontsize=14, color=CINZA2,\n",
        "          pad=15,\n",
        "          loc='left')\n",
        "ax.set_xlabel('Amostra', fontsize=14)\n",
        "ax.set_ylabel('Altura (cm)', fontsize=14)\n",
        "ax.yaxis.set_tick_params(labelsize=12, labelcolor=CINZA2)\n",
        "ax.xaxis.set_tick_params(labelsize=12, labelcolor=CINZA2)\n",
        "sns.despine(bottom=True)\n",
        "\n",
        "plt.show()"
      ],
      "metadata": {
        "id": "j88Z3tCbjx2p"
      },
      "execution_count": null,
      "outputs": []
    },
    {
      "cell_type": "markdown",
      "source": [
        "# Gráfico de dispersão (Base de dados 3)"
      ],
      "metadata": {
        "id": "91O6O_QKjytF"
      }
    },
    {
      "cell_type": "markdown",
      "source": [
        "**Questionamento:**\n",
        "\n",
        "2. Como estão dispostas as medidas de comprimento e altura da amostra A? Se quisermos rejeitar todos os itens em que o valor de comprimento e altura está 10% acima ou abaixo do valor de 20 e 15 respectivamente, quais seriam rejeitados?"
      ],
      "metadata": {
        "id": "7rfaqjOGlRw5"
      }
    },
    {
      "cell_type": "code",
      "source": [
        "df_a = df_medidas.query('amostra == \"A\"')[['comprimento', 'altura']]\n",
        "df_a.head()"
      ],
      "metadata": {
        "id": "MULhaZmBj2Na"
      },
      "execution_count": null,
      "outputs": []
    },
    {
      "cell_type": "code",
      "source": [
        "# Gerando a função que cria o gráfico de dispersão\n",
        "def grafico_dispersao(map_cores: list=(AZUL2), pct: float=0.01):\n",
        "\n",
        "    fig, ax = plt.subplots(figsize=(10,5))\n",
        "    sns.set_theme(style='white')\n",
        "\n",
        "    ax = sns.scatterplot(data=df_a, x='comprimento', y='altura', color=map_cores)\n",
        "\n",
        "    # Personalização do gráfico\n",
        "    plt.suptitle('Distribuição do comprimento x altura da caixa de sabão em pó',\n",
        "                 size=18,\n",
        "                 color=CINZA1,\n",
        "                 ha='right',\n",
        "                 x=0.91,\n",
        "                 y=1.03)\n",
        "    plt.title('para a amostra A com 200 observações cada', fontsize=14, color=CINZA2,\n",
        "              pad=15,\n",
        "              loc='left')\n",
        "    ax.set_xlabel('Comprimento (cm)', fontsize=14)\n",
        "    ax.set_ylabel('Altura (cm)', fontsize=14)\n",
        "    ax.yaxis.set_tick_params(labelsize=12, labelcolor=CINZA2)\n",
        "    ax.xaxis.set_tick_params(labelsize=12, labelcolor=CINZA2)\n",
        "    sns.despine()\n",
        "\n",
        "    # Linha horizontal com limite mínimo de altura desejado\n",
        "    ax.text(19.92, 14.855,\n",
        "            'Limite mínimo da altura',\n",
        "            fontsize=12,\n",
        "            color=CINZA2,\n",
        "            va='bottom')\n",
        "    plt.axhline(y= 15 * (1-pct), color=CINZA4, linestyle='--')\n",
        "\n",
        "    # Linha vertical com limite mínimo de comprimento desejado\n",
        "    ax.text(20.205, 15.05,\n",
        "            'Limite mínimo\\nde comprimento',\n",
        "            fontsize=12,\n",
        "            color=CINZA2,\n",
        "            ha='left')\n",
        "    plt.axvline(x= 20 * (1+pct), color=CINZA4, linestyle='--')\n",
        "\n",
        "    return ax\n",
        "\n",
        "ax = grafico_dispersao()"
      ],
      "metadata": {
        "id": "-zZvnoLCllF-"
      },
      "execution_count": null,
      "outputs": []
    },
    {
      "cell_type": "markdown",
      "source": [
        "Mapeando os dados por cores"
      ],
      "metadata": {
        "id": "YPa6bzVRqgqL"
      }
    },
    {
      "cell_type": "code",
      "source": [
        "# Definindo as cores do gráfico\n",
        "cores = [VERMELHO1, LARANJA1, AZUL2]\n",
        "\n",
        "# Gerando gráfico de dispersão rejeitando os valores fora da faixa requisitada (1%)\n",
        "pct = 0.01\n",
        "rejeita_comp = [True if (c > 20*(1+pct) or c < 20*(1-pct)) else False for c in df_a['comprimento']]\n",
        "rejeita_alt = [True if (a > 15*(1+pct) or a < 15*(1-pct)) else False for a in df_a['altura']]\n",
        "\n",
        "# Mapeamento das cores\n",
        "map_cores = np.where(rejeita_comp, cores[0], np.where(rejeita_alt, cores[1], cores[2]))\n",
        "\n",
        "ax = grafico_dispersao(map_cores, pct)\n",
        "\n",
        "# Selecionando as áreas de rejeição\n",
        "rej_comp = Ellipse((20.165, 14.80), width=0.065, height=0.08, color=CINZA1, fill=False)\n",
        "rej_alt = Ellipse((20.24, 14.715), width=0.04, height=0.08, color=CINZA1, fill=False)\n",
        "ax.add_patch(rej_comp)\n",
        "ax.add_patch(rej_alt)\n",
        "\n",
        "ax.annotate('Rejeição pela faixa\\nde altura', xy=(20.185, 14.82), xycoords='data',\n",
        "            bbox=dict(boxstyle='round', fc=CINZA5, ec=CINZA3),\n",
        "            xytext=(50, -20), textcoords='offset points',\n",
        "            arrowprops=dict(arrowstyle='->', color=CINZA3))\n",
        "\n",
        "ax.annotate('Rejeição pela faixa\\nde comprimento e altura', xy=(20.22, 14.72), xycoords='data',\n",
        "            bbox=dict(boxstyle='round', fc=CINZA5, ec=CINZA3),\n",
        "            xytext=(-195, -20), textcoords='offset points',\n",
        "            arrowprops=dict(arrowstyle='->', color=CINZA3))\n",
        "\n",
        "fig = ax.get_figure()"
      ],
      "metadata": {
        "id": "TbaPqLwkmnQN"
      },
      "execution_count": null,
      "outputs": []
    },
    {
      "cell_type": "markdown",
      "source": [
        "# Análises propostas (Base de dados 4)"
      ],
      "metadata": {
        "id": "2XONj3msu4jY"
      }
    },
    {
      "cell_type": "code",
      "source": [
        "df_notas = pd.read_csv('/content/notas.csv')\n",
        "df_notas"
      ],
      "metadata": {
        "id": "eAB6CyMIu9X8"
      },
      "execution_count": null,
      "outputs": []
    },
    {
      "cell_type": "code",
      "source": [
        "# Definindo as cores do gráfico\n",
        "cores = [AZUL2, AZUL4, CINZA4]\n",
        "\n",
        "# Gerando área do gráfico\n",
        "fig, ax = plt.subplots(figsize=(10,6))\n",
        "sns.set_theme(style='whitegrid')\n",
        "\n",
        "# Gerando gráfico tipo 'Violin plot'\n",
        "ax = sns.violinplot(data=df_notas,\n",
        "                    x='Turma',\n",
        "                    y='Nota',\n",
        "                    palette=cores,\n",
        "                    hue='Turma',\n",
        "                    legend=False)\n",
        "\n",
        "# Personalização do gráfico\n",
        "plt.suptitle('Distribuição das notas das turmas de DataViz (1, 2 e 3)',\n",
        "            size=18,\n",
        "            color=CINZA1,\n",
        "            ha='right',\n",
        "            x=0.817,\n",
        "            y=0.99)\n",
        "plt.title('para uma amostra de 100 notas em cada',\n",
        "          fontsize=14,\n",
        "          color=CINZA2,\n",
        "          loc='left',\n",
        "          pad=15)\n",
        "ax.set_xlabel('')\n",
        "ax.set_ylabel('Notas (0-100)', fontsize=14, color=CINZA2)\n",
        "ax.xaxis.set_tick_params(labelsize=14, color=CINZA2)\n",
        "ax.yaxis.set_tick_params(labelsize=14, color=CINZA2)\n",
        "sns.despine(bottom=True)\n",
        "\n",
        "# Criando lista com as medianas de cada turma\n",
        "mediana = []\n",
        "for i in range(1,4):\n",
        "    mediana.append(df_notas.query(f'Turma == \"Turma {i}\"').Nota.median())\n",
        "\n",
        "# Inclusão de texto explicativo\n",
        "ax.text(2.6, 60,\n",
        "        'O gráfico acima mostra a distribuição dos valores entre as três turmas\\n'\n",
        "        'do curso de DataViz: $\\\\bf{Turma\\\\;1}$, $\\\\bf{Turma\\\\;2}$ e $\\\\bf{Turma\\\\;3}$.\\n'\n",
        "        '\\nA $\\\\bf{Turma\\\\;1}$ apresenta uma distribuição aparentemente normal,\\n'\n",
        "        f'com a mediana de {mediana[0]} e uma variabilidade moderada.\\n'\n",
        "        '\\nA $\\\\bf{Turma\\\\;2}$ mostra uma distribuição mais estreita, com a mediana\\n'\n",
        "        f'de {mediana[1]} e uma variabilidade menor.\\n'\n",
        "        '\\nEnquanto isso, a $\\\\bf{Turma\\\\;3}$ possui uma distribuição mais assimétrica,\\n'\n",
        "        f'com a mediana de {mediana[2]} e uma variabilidade maior em relação aos outros grupos.',\n",
        "        fontsize=10,\n",
        "        linespacing=1.45,\n",
        "        color=CINZA2)\n",
        "\n",
        "plt.show()"
      ],
      "metadata": {
        "id": "EBY2I31cbqTi"
      },
      "execution_count": null,
      "outputs": []
    },
    {
      "cell_type": "markdown",
      "source": [
        "# Análises propostas (Base de dados 3)"
      ],
      "metadata": {
        "id": "eQb6Ksl6iyTB"
      }
    },
    {
      "cell_type": "code",
      "source": [
        "df_medidas.head()"
      ],
      "metadata": {
        "id": "oR6CPKeFjhb1"
      },
      "execution_count": null,
      "outputs": []
    },
    {
      "cell_type": "code",
      "source": [
        "amostra_b = df_medidas.query('amostra == \"B\"')[['comprimento', 'largura']]"
      ],
      "metadata": {
        "id": "tV_0jCxmkgYu"
      },
      "execution_count": null,
      "outputs": []
    },
    {
      "cell_type": "code",
      "source": [
        "# Gerando área do gráfico e tema\n",
        "fig, ax = plt.subplots(figsize=(10,5))\n",
        "sns.set_theme(style='white')\n",
        "\n",
        "# Definição das cores e mapeando as cores para a faixa desejada\n",
        "cores=[LARANJA1, AZUL2]\n",
        "rejeita_lar = [True if (c > 5*(1+0.02) or c < 5*(1-0.02)) else False for c in amostra_b['largura']]\n",
        "map_cores = np.where(rejeita_lar, cores[0], cores[1])\n",
        "\n",
        "# Gerando gráfico de dispersão\n",
        "ax = sns.scatterplot(data=amostra_b, x='comprimento', y='largura', color=map_cores)\n",
        "\n",
        "# Personalização do gráfico\n",
        "plt.suptitle('Distribuição do comprimento x altura da caixa de sabão em pó',\n",
        "             size=18,\n",
        "             color=CINZA1,\n",
        "             ha='right',\n",
        "             x=0.915,\n",
        "             y=1.02)\n",
        "plt.title('para a amostra B com 200 observações',\n",
        "         fontsize=14,\n",
        "         color=CINZA2,\n",
        "         loc='left',\n",
        "         pad=15)\n",
        "ax.set_xlabel('Comprimento (cm)', fontsize=14, color=CINZA2)\n",
        "ax.set_ylabel('Largura (cm)', fontsize=14, color=CINZA2)\n",
        "ax.xaxis.set_tick_params(labelsize=14, labelcolor=CINZA2)\n",
        "ax.yaxis.set_tick_params(labelsize=14, labelcolor=CINZA2)\n",
        "sns.despine()\n",
        "\n",
        "# Inclusão de linhas horizontais com os limites máximos e mínimos de largura\n",
        "ax.text(20.25, 4.894,\n",
        "        'Limite mínimo da largura',\n",
        "        fontsize=12,\n",
        "        color=CINZA2,\n",
        "        va='bottom',bbox=dict(boxstyle='round', fc=CINZA5, ec=CINZA3))\n",
        "plt.axhline(y= 5 * (1-0.02), color=CINZA3, linestyle='--')\n",
        "\n",
        "ax.text(20.25, 5.094,\n",
        "        'Limite máximo da largura',\n",
        "        fontsize=12,\n",
        "        color=CINZA2,\n",
        "        va='bottom',\n",
        "        bbox=dict(boxstyle='round', fc=CINZA5, ec=CINZA3))\n",
        "plt.axhline(y= 5 * (1+0.02), color=CINZA3, linestyle='--')\n",
        "\n",
        "plt.show()"
      ],
      "metadata": {
        "id": "BYu8PBA-cOUQ"
      },
      "execution_count": null,
      "outputs": []
    }
  ]
}